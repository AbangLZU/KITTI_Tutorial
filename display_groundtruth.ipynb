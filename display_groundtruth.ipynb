{
 "cells": [
  {
   "cell_type": "code",
   "execution_count": 5,
   "metadata": {
    "collapsed": false
   },
   "outputs": [],
   "source": [
    "import numpy as np\n",
    "import glob\n",
    "from src import parseTrackletXML as pt_XML"
   ]
  },
  {
   "cell_type": "code",
   "execution_count": 6,
   "metadata": {
    "collapsed": false
   },
   "outputs": [
    {
     "name": "stdout",
     "output_type": "stream",
     "text": [
      "154\n"
     ]
    }
   ],
   "source": [
    "lidar_points = glob.glob('./velodyne_points/data/*.bin')\n",
    "\n",
    "\n",
    "print(len(lidar_points))"
   ]
  },
  {
   "cell_type": "code",
   "execution_count": 36,
   "metadata": {
    "collapsed": false
   },
   "outputs": [
    {
     "name": "stdout",
     "output_type": "stream",
     "text": [
      "parsing tracklet file ./tracklet_labels.xml\n",
      "file contains 15 tracklets\n",
      "loaded 15 tracklets\n"
     ]
    }
   ],
   "source": [
    "def load_tracklet(xml_path, n_frame):\n",
    "    tracklets = pt_XML.parseXML(xml_path)\n",
    "    objects = []  #grouped by frames\n",
    "    \n",
    "    twoPi = 2.*np.pi\n",
    "    \n",
    "    f_tracklet = {}\n",
    "    f_type = {}\n",
    "    #for i in range(n_frame):\n",
    "    #    frame_tracklets[i] = []\n",
    "    #    frame_tracklets_types[i] = []\n",
    "    \n",
    "    \n",
    "    # refered to parseTrackletXML.py example fuction\n",
    "    # loop over tracklets\n",
    "    for tracklet in tracklets:\n",
    "        \n",
    "        # this part is inspired by kitti object development kit matlab code: computeBox3D\n",
    "        h, w, l = tracklet.size\n",
    "        trackletBox = np.array([ # in velodyne coordinates around zero point and without orientation yet\\\n",
    "        [-l/2, -l/2,  l/2, l/2, -l/2, -l/2,  l/2, l/2], \\\n",
    "        [ w/2, -w/2, -w/2, w/2,  w/2, -w/2, -w/2, w/2], \\\n",
    "        [ 0.0,  0.0,  0.0, 0.0,    h,     h,   h,   h]])\n",
    "        \n",
    "        # loop over all data in tracklet\n",
    "        for translation, rotation, state, occlusion, truncation, amtOcclusion, amtBorders, absoluteFrameNumber in tracklet:\n",
    "\n",
    "            # determine if object is in the image; otherwise continue\n",
    "            if truncation not in (pt_XML.TRUNC_IN_IMAGE, pt_XML.TRUNC_TRUNCATED):\n",
    "                continue\n",
    "\n",
    "            # re-create 3D bounding box in velodyne coordinate system\n",
    "            yaw = rotation[2]   # other rotations are 0 in all xml files I checked\n",
    "            assert np.abs(rotation[:2]).sum() == 0, 'object rotations other than yaw given!'\n",
    "            rotMat = np.array([\\\n",
    "              [np.cos(yaw), -np.sin(yaw), 0.0], \\\n",
    "              [np.sin(yaw),  np.cos(yaw), 0.0], \\\n",
    "              [        0.0,          0.0, 1.0]])\n",
    "\n",
    "            cornerPosInVelo = np.dot(rotMat, trackletBox) + np.tile(translation, (8,1)).T        \n",
    "            \n",
    "            if absoluteFrameNumber in f_tracklet:\n",
    "                f_tracklet[absoluteFrameNumber] += [cornerPosInVelo]\n",
    "                f_type[absoluteFrameNumber] += [tracklet.objectType]\n",
    "            else:\n",
    "                f_tracklet[absoluteFrameNumber] = [cornerPosInVelo]\n",
    "                f_type[absoluteFrameNumber] = [tracklet.objectType]\n",
    "            \n",
    "    return f_tracklet, f_type\n",
    "        \n",
    "    \n",
    "xml_path = \"./tracklet_labels.xml\"    \n",
    "tracklet, type = load_tracklet(xml_path, len(lidar_points))"
   ]
  },
  {
   "cell_type": "code",
   "execution_count": 16,
   "metadata": {
    "collapsed": false
   },
   "outputs": [],
   "source": [
    "def projectToImage(points_3d, K):\n",
    "    points_2d = np.dot(K, points_3d[:3,:])\n",
    "    points_2d[0,:]=points_2d[0,:]/points_2d[2,:]\n",
    "    points_2d[1,:]=points_2d[1,:]/points_2d[2,:]\n",
    "    return points_2d[:2,:]\n"
   ]
  },
  {
   "cell_type": "code",
   "execution_count": null,
   "metadata": {
    "collapsed": true
   },
   "outputs": [],
   "source": []
  }
 ],
 "metadata": {
  "kernelspec": {
   "display_name": "Python [conda root]",
   "language": "python",
   "name": "conda-root-py"
  },
  "language_info": {
   "codemirror_mode": {
    "name": "ipython",
    "version": 3
   },
   "file_extension": ".py",
   "mimetype": "text/x-python",
   "name": "python",
   "nbconvert_exporter": "python",
   "pygments_lexer": "ipython3",
   "version": "3.5.2"
  }
 },
 "nbformat": 4,
 "nbformat_minor": 1
}
