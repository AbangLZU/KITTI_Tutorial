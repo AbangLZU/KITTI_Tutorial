{
 "cells": [
  {
   "cell_type": "code",
   "execution_count": 1,
   "metadata": {
    "collapsed": false
   },
   "outputs": [],
   "source": [
    "import numpy as np\n",
    "import glob\n",
    "from src import parseTrackletXML as pt_XML"
   ]
  },
  {
   "cell_type": "code",
   "execution_count": 2,
   "metadata": {
    "collapsed": false
   },
   "outputs": [
    {
     "name": "stdout",
     "output_type": "stream",
     "text": [
      "154\n"
     ]
    }
   ],
   "source": [
    "lidar_points = glob.glob('./velodyne_points/data/*.bin')\n",
    "\n",
    "\n",
    "print(len(lidar_points))"
   ]
  },
  {
   "cell_type": "code",
   "execution_count": 3,
   "metadata": {
    "collapsed": false
   },
   "outputs": [
    {
     "name": "stdout",
     "output_type": "stream",
     "text": [
      "parsing tracklet file ./tracklet_labels.xml\n",
      "file contains 15 tracklets\n",
      "loaded 15 tracklets\n"
     ]
    },
    {
     "ename": "AttributeError",
     "evalue": "module 'itertools' has no attribute 'izip'",
     "output_type": "error",
     "traceback": [
      "\u001b[0;31m---------------------------------------------------------------------------\u001b[0m",
      "\u001b[0;31mAttributeError\u001b[0m                            Traceback (most recent call last)",
      "\u001b[0;32m<ipython-input-3-ec9f0f170b54>\u001b[0m in \u001b[0;36m<module>\u001b[0;34m()\u001b[0m\n\u001b[1;32m     37\u001b[0m \u001b[1;33m\u001b[0m\u001b[0m\n\u001b[1;32m     38\u001b[0m \u001b[0mxml_path\u001b[0m \u001b[1;33m=\u001b[0m \u001b[1;34m\"./tracklet_labels.xml\"\u001b[0m\u001b[1;33m\u001b[0m\u001b[0m\n\u001b[0;32m---> 39\u001b[0;31m \u001b[0mload_tracklet\u001b[0m\u001b[1;33m(\u001b[0m\u001b[0mxml_path\u001b[0m\u001b[1;33m,\u001b[0m \u001b[0mlen\u001b[0m\u001b[1;33m(\u001b[0m\u001b[0mlidar_points\u001b[0m\u001b[1;33m)\u001b[0m\u001b[1;33m)\u001b[0m\u001b[1;33m\u001b[0m\u001b[0m\n\u001b[0m",
      "\u001b[0;32m<ipython-input-3-ec9f0f170b54>\u001b[0m in \u001b[0;36mload_tracklet\u001b[0;34m(xml_path, n_frame)\u001b[0m\n\u001b[1;32m     15\u001b[0m \u001b[1;33m\u001b[0m\u001b[0m\n\u001b[1;32m     16\u001b[0m         \u001b[1;31m# loop over all data in tracklet\u001b[0m\u001b[1;33m\u001b[0m\u001b[1;33m\u001b[0m\u001b[0m\n\u001b[0;32m---> 17\u001b[0;31m         \u001b[1;32mfor\u001b[0m \u001b[0mtranslation\u001b[0m\u001b[1;33m,\u001b[0m \u001b[0mrotation\u001b[0m\u001b[1;33m,\u001b[0m \u001b[0mstate\u001b[0m\u001b[1;33m,\u001b[0m \u001b[0mocclusion\u001b[0m\u001b[1;33m,\u001b[0m \u001b[0mtruncation\u001b[0m\u001b[1;33m,\u001b[0m \u001b[0mamtOcclusion\u001b[0m\u001b[1;33m,\u001b[0m \u001b[0mamtBorders\u001b[0m\u001b[1;33m,\u001b[0m \u001b[0mabsoluteFrameNumber\u001b[0m \u001b[1;32min\u001b[0m \u001b[0mtracklet\u001b[0m\u001b[1;33m:\u001b[0m\u001b[1;33m\u001b[0m\u001b[0m\n\u001b[0m\u001b[1;32m     18\u001b[0m \u001b[1;33m\u001b[0m\u001b[0m\n\u001b[1;32m     19\u001b[0m             \u001b[1;31m# determine if object is in the image; otherwise continue\u001b[0m\u001b[1;33m\u001b[0m\u001b[1;33m\u001b[0m\u001b[0m\n",
      "\u001b[0;32mC:\\Users\\changsub Bae\\PycharmProjects\\kitti\\src\\parseTrackletXML.py\u001b[0m in \u001b[0;36m__iter__\u001b[0;34m(self)\u001b[0m\n\u001b[1;32m    112\u001b[0m           itertools.repeat(None), itertools.repeat(None), xrange(self.firstFrame, self.firstFrame+self.nFrames))\n\u001b[1;32m    113\u001b[0m     \u001b[1;32melse\u001b[0m\u001b[1;33m:\u001b[0m\u001b[1;33m\u001b[0m\u001b[0m\n\u001b[0;32m--> 114\u001b[0;31m       return itertools.izip(self.trans, self.rots, self.states, self.occs, self.truncs, \\\n\u001b[0m\u001b[1;32m    115\u001b[0m           self.amtOccs, self.amtBorders, xrange(self.firstFrame, self.firstFrame+self.nFrames))\n\u001b[1;32m    116\u001b[0m \u001b[1;31m#end: class Tracklet\u001b[0m\u001b[1;33m\u001b[0m\u001b[1;33m\u001b[0m\u001b[0m\n",
      "\u001b[0;31mAttributeError\u001b[0m: module 'itertools' has no attribute 'izip'"
     ]
    }
   ],
   "source": [
    "def load_tracklet(xml_path, n_frame):\n",
    "    tracklets = pt_XML.parseXML(xml_path)\n",
    "    objects = []  #grouped by frames\n",
    "    \n",
    "    # refered to parseTrackletXML.py example fuction\n",
    "    # loop over tracklets\n",
    "    for tracklet in tracklets:\n",
    "        \n",
    "        # this part is inspired by kitti object development kit matlab code: computeBox3D\n",
    "        h, w, l = tracklet.size\n",
    "        trackletBox = np.array([ # in velodyne coordinates around zero point and without orientation yet\\\n",
    "        [-l/2, -l/2,  l/2, l/2, -l/2, -l/2,  l/2, l/2], \\\n",
    "        [ w/2, -w/2, -w/2, w/2,  w/2, -w/2, -w/2, w/2], \\\n",
    "        [ 0.0,  0.0,  0.0, 0.0,    h,     h,   h,   h]])\n",
    "        \n",
    "        # loop over all data in tracklet\n",
    "        for translation, rotation, state, occlusion, truncation, amtOcclusion, amtBorders, absoluteFrameNumber in tracklet:\n",
    "\n",
    "            # determine if object is in the image; otherwise continue\n",
    "            if truncation not in (TRUNC_IN_IMAGE, TRUNC_TRUNCATED):\n",
    "                continue\n",
    "\n",
    "            # re-create 3D bounding box in velodyne coordinate system\n",
    "            yaw = rotation[2]   # other rotations are 0 in all xml files I checked\n",
    "            assert np.abs(rotation[:2]).sum() == 0, 'object rotations other than yaw given!'\n",
    "            rotMat = np.array([\\\n",
    "              [np.cos(yaw), -np.sin(yaw), 0.0], \\\n",
    "              [np.sin(yaw),  np.cos(yaw), 0.0], \\\n",
    "              [        0.0,          0.0, 1.0]])\n",
    "            cornerPosInVelo = np.dot(rotMat, trackletBox) + np.tile(translation, (8,1)).T\n",
    "\n",
    "            # calc yaw as seen from the camera (i.e. 0 degree = facing away from cam), as opposed to \n",
    "            #   car-centered yaw (i.e. 0 degree = same orientation as car).\n",
    "            #   makes quite a difference for objects in periphery!\n",
    "            # Result is in [0, 2pi]\n",
    "            x, y, z = translation\n",
    "            yawVisual = ( yaw - np.arctan2(y, x) ) % twoPi\n",
    "        \n",
    "        \n",
    "    \n",
    "xml_path = \"./tracklet_labels.xml\"    \n",
    "load_tracklet(xml_path, len(lidar_points))"
   ]
  },
  {
   "cell_type": "code",
   "execution_count": 16,
   "metadata": {
    "collapsed": false
   },
   "outputs": [],
   "source": [
    "def projectToImage(points_3d, K):\n",
    "    points_2d = np.dot(K, points_3d[:3,:])\n",
    "    points_2d[0,:]=points_2d[0,:]/points_2d[2,:]\n",
    "    points_2d[1,:]=points_2d[1,:]/points_2d[2,:]\n",
    "    return points_2d[:2,:]\n"
   ]
  },
  {
   "cell_type": "code",
   "execution_count": null,
   "metadata": {
    "collapsed": true
   },
   "outputs": [],
   "source": []
  }
 ],
 "metadata": {
  "kernelspec": {
   "display_name": "Python [conda root]",
   "language": "python",
   "name": "conda-root-py"
  },
  "language_info": {
   "codemirror_mode": {
    "name": "ipython",
    "version": 3
   },
   "file_extension": ".py",
   "mimetype": "text/x-python",
   "name": "python",
   "nbconvert_exporter": "python",
   "pygments_lexer": "ipython3",
   "version": "3.5.2"
  }
 },
 "nbformat": 4,
 "nbformat_minor": 1
}
